{
  "nbformat": 4,
  "nbformat_minor": 0,
  "metadata": {
    "colab": {
      "name": "get_device_name.ipynb",
      "provenance": [],
      "collapsed_sections": [],
      "include_colab_link": true
    },
    "kernelspec": {
      "name": "python3",
      "display_name": "Python 3"
    },
    "accelerator": "GPU"
  },
  "cells": [
    {
      "cell_type": "markdown",
      "metadata": {
        "id": "view-in-github",
        "colab_type": "text"
      },
      "source": [
        "<a href=\"https://colab.research.google.com/github/sangyy/colab/blob/master/get_device_name.ipynb\" target=\"_parent\"><img src=\"https://colab.research.google.com/assets/colab-badge.svg\" alt=\"Open In Colab\"/></a>"
      ]
    },
    {
      "cell_type": "code",
      "metadata": {
        "id": "uPwY6tvsOlc7",
        "colab_type": "code",
        "colab": {
          "base_uri": "https://localhost:8080/",
          "height": 357
        },
        "outputId": "4e64a174-f036-45a9-a2ad-975c31d89320"
      },
      "source": [
        "!nvidia-smi"
      ],
      "execution_count": null,
      "outputs": [
        {
          "output_type": "stream",
          "text": [
            "Sun Jun 21 09:37:44 2020       \n",
            "+-----------------------------------------------------------------------------+\n",
            "| NVIDIA-SMI 450.36.06    Driver Version: 418.67       CUDA Version: 10.1     |\n",
            "|-------------------------------+----------------------+----------------------+\n",
            "| GPU  Name        Persistence-M| Bus-Id        Disp.A | Volatile Uncorr. ECC |\n",
            "| Fan  Temp  Perf  Pwr:Usage/Cap|         Memory-Usage | GPU-Util  Compute M. |\n",
            "|                               |                      |               MIG M. |\n",
            "|===============================+======================+======================|\n",
            "|   0  Tesla P4            Off  | 00000000:00:04.0 Off |                    0 |\n",
            "| N/A   42C    P8     7W /  75W |     10MiB /  7611MiB |      0%      Default |\n",
            "|                               |                      |                 ERR! |\n",
            "+-------------------------------+----------------------+----------------------+\n",
            "                                                                               \n",
            "+-----------------------------------------------------------------------------+\n",
            "| Processes:                                                                  |\n",
            "|  GPU   GI   CI        PID   Type   Process name                  GPU Memory |\n",
            "|        ID   ID                                                   Usage      |\n",
            "|=============================================================================|\n",
            "|  No running processes found                                                 |\n",
            "+-----------------------------------------------------------------------------+\n"
          ],
          "name": "stdout"
        }
      ]
    },
    {
      "cell_type": "code",
      "metadata": {
        "id": "8cyRETwe3sKh",
        "colab_type": "code",
        "colab": {
          "base_uri": "https://localhost:8080/",
          "height": 34
        },
        "outputId": "9a5ab887-4a41-4178-c8c1-51177211c7e3"
      },
      "source": [
        "import torch\n",
        "torch.cuda.get_device_name(0)"
      ],
      "execution_count": null,
      "outputs": [
        {
          "output_type": "execute_result",
          "data": {
            "text/plain": [
              "'Tesla P4'"
            ]
          },
          "metadata": {
            "tags": []
          },
          "execution_count": 3
        }
      ]
    },
    {
      "cell_type": "code",
      "metadata": {
        "id": "caniEOoNOjnV",
        "colab_type": "code",
        "colab": {}
      },
      "source": [
        ""
      ],
      "execution_count": null,
      "outputs": []
    },
    {
      "cell_type": "code",
      "metadata": {
        "id": "vEGZtNChL5Nr",
        "colab_type": "code",
        "colab": {
          "base_uri": "https://localhost:8080/",
          "height": 377
        },
        "outputId": "5bc18303-6389-471e-f0b8-40c854d643ce"
      },
      "source": [
        "!sudo dpkg --list | grep nvidia-*"
      ],
      "execution_count": null,
      "outputs": [
        {
          "output_type": "stream",
          "text": [
            "ii  libnvidia-cfg1-450:amd64               450.36.06-0ubuntu1                                amd64        NVIDIA binary OpenGL/GLX configuration library\n",
            "ii  libnvidia-common-440                   440.82-0ubuntu0~0.18.04.2                         all          Shared files used by the NVIDIA libraries\n",
            "ii  libnvidia-common-450                   450.36.06-0ubuntu1                                all          Shared files used by the NVIDIA libraries\n",
            "rc  libnvidia-compute-440:amd64            440.82-0ubuntu0~0.18.04.2                         amd64        NVIDIA libcompute package\n",
            "ii  libnvidia-compute-450:amd64            450.36.06-0ubuntu1                                amd64        NVIDIA libcompute package\n",
            "ii  libnvidia-decode-450:amd64             450.36.06-0ubuntu1                                amd64        NVIDIA Video Decoding runtime libraries\n",
            "ii  libnvidia-encode-450:amd64             450.36.06-0ubuntu1                                amd64        NVENC Video Encoding runtime library\n",
            "ii  libnvidia-fbc1-450:amd64               450.36.06-0ubuntu1                                amd64        NVIDIA OpenGL-based Framebuffer Capture runtime library\n",
            "ii  libnvidia-gl-450:amd64                 450.36.06-0ubuntu1                                amd64        NVIDIA OpenGL/GLX/EGL/GLES GLVND libraries and Vulkan ICD\n",
            "ii  libnvidia-ifr1-450:amd64               450.36.06-0ubuntu1                                amd64        NVIDIA OpenGL-based Inband Frame Readback runtime library\n",
            "ii  nvidia-compute-utils-450               450.36.06-0ubuntu1                                amd64        NVIDIA compute utilities\n",
            "ii  nvidia-dkms-450                        450.36.06-0ubuntu1                                amd64        NVIDIA DKMS package\n",
            "ii  nvidia-driver-450                      450.36.06-0ubuntu1                                amd64        NVIDIA driver metapackage\n",
            "ii  nvidia-kernel-common-450               450.36.06-0ubuntu1                                amd64        Shared files used with the kernel module\n",
            "ii  nvidia-kernel-source-450               450.36.06-0ubuntu1                                amd64        NVIDIA kernel source package\n",
            "ii  nvidia-modprobe                        450.36.06-0ubuntu1                                amd64        Load the NVIDIA kernel driver and create device files\n",
            "ii  nvidia-opencl-dev:amd64                9.1.85-3ubuntu1                                   amd64        NVIDIA OpenCL development files\n",
            "ii  nvidia-settings                        450.36.06-0ubuntu1                                amd64        Tool for configuring the NVIDIA graphics driver\n",
            "ii  nvidia-utils-450                       450.36.06-0ubuntu1                                amd64        NVIDIA driver support binaries\n",
            "ii  xserver-xorg-video-nvidia-450          450.36.06-0ubuntu1                                amd64        NVIDIA binary Xorg driver\n"
          ],
          "name": "stdout"
        }
      ]
    },
    {
      "cell_type": "code",
      "metadata": {
        "id": "gdZgRhtzMPmY",
        "colab_type": "code",
        "colab": {
          "base_uri": "https://localhost:8080/",
          "height": 357
        },
        "outputId": "7d43c3d6-acd5-41c4-b0c2-02f7abc9838f"
      },
      "source": [
        "!nvidia-smi"
      ],
      "execution_count": null,
      "outputs": [
        {
          "output_type": "stream",
          "text": [
            "Sun Jun 21 09:24:05 2020       \n",
            "+-----------------------------------------------------------------------------+\n",
            "| NVIDIA-SMI 450.36.06    Driver Version: 418.67       CUDA Version: 10.1     |\n",
            "|-------------------------------+----------------------+----------------------+\n",
            "| GPU  Name        Persistence-M| Bus-Id        Disp.A | Volatile Uncorr. ECC |\n",
            "| Fan  Temp  Perf  Pwr:Usage/Cap|         Memory-Usage | GPU-Util  Compute M. |\n",
            "|                               |                      |               MIG M. |\n",
            "|===============================+======================+======================|\n",
            "|   0  Tesla K80           Off  | 00000000:00:04.0 Off |                    0 |\n",
            "| N/A   58C    P0    62W / 149W |    373MiB / 11441MiB |      0%      Default |\n",
            "|                               |                      |                 ERR! |\n",
            "+-------------------------------+----------------------+----------------------+\n",
            "                                                                               \n",
            "+-----------------------------------------------------------------------------+\n",
            "| Processes:                                                                  |\n",
            "|  GPU   GI   CI        PID   Type   Process name                  GPU Memory |\n",
            "|        ID   ID                                                   Usage      |\n",
            "|=============================================================================|\n",
            "|  No running processes found                                                 |\n",
            "+-----------------------------------------------------------------------------+\n"
          ],
          "name": "stdout"
        }
      ]
    },
    {
      "cell_type": "code",
      "metadata": {
        "id": "heFg6fNd34Tj",
        "colab_type": "code",
        "colab": {
          "base_uri": "https://localhost:8080/",
          "height": 476
        },
        "outputId": "f4666292-c7d6-499b-b62a-7533436baf55"
      },
      "source": [
        "from tensorflow.python.client import device_lib\n",
        "device_lib.list_local_devices()"
      ],
      "execution_count": null,
      "outputs": [
        {
          "output_type": "execute_result",
          "data": {
            "text/plain": [
              "[name: \"/device:CPU:0\"\n",
              " device_type: \"CPU\"\n",
              " memory_limit: 268435456\n",
              " locality {\n",
              " }\n",
              " incarnation: 12339871546230696902, name: \"/device:XLA_CPU:0\"\n",
              " device_type: \"XLA_CPU\"\n",
              " memory_limit: 17179869184\n",
              " locality {\n",
              " }\n",
              " incarnation: 13148376456308142572\n",
              " physical_device_desc: \"device: XLA_CPU device\", name: \"/device:XLA_GPU:0\"\n",
              " device_type: \"XLA_GPU\"\n",
              " memory_limit: 17179869184\n",
              " locality {\n",
              " }\n",
              " incarnation: 16908273938300016670\n",
              " physical_device_desc: \"device: XLA_GPU device\", name: \"/device:GPU:0\"\n",
              " device_type: \"GPU\"\n",
              " memory_limit: 10911087360\n",
              " locality {\n",
              "   bus_id: 1\n",
              "   links {\n",
              "   }\n",
              " }\n",
              " incarnation: 1712349703117023756\n",
              " physical_device_desc: \"device: 0, name: Tesla K80, pci bus id: 0000:00:04.0, compute capability: 3.7\"]"
            ]
          },
          "metadata": {
            "tags": []
          },
          "execution_count": 3
        }
      ]
    }
  ]
}