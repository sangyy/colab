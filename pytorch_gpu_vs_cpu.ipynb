{
  "nbformat": 4,
  "nbformat_minor": 0,
  "metadata": {
    "kernelspec": {
      "name": "python3",
      "display_name": "Python 3"
    },
    "language_info": {
      "codemirror_mode": {
        "name": "ipython",
        "version": 3
      },
      "file_extension": ".py",
      "mimetype": "text/x-python",
      "name": "python",
      "nbconvert_exporter": "python",
      "pygments_lexer": "ipython3",
      "version": "3.7.4"
    },
    "colab": {
      "name": "pytorch gpu vs cpu.ipynb",
      "provenance": [],
      "collapsed_sections": [],
      "include_colab_link": true
    },
    "accelerator": "GPU"
  },
  "cells": [
    {
      "cell_type": "markdown",
      "metadata": {
        "id": "view-in-github",
        "colab_type": "text"
      },
      "source": [
        "<a href=\"https://colab.research.google.com/github/sangyy/colab/blob/master/pytorch_gpu_vs_cpu.ipynb\" target=\"_parent\"><img src=\"https://colab.research.google.com/assets/colab-badge.svg\" alt=\"Open In Colab\"/></a>"
      ]
    },
    {
      "cell_type": "code",
      "metadata": {
        "id": "L9HM_wtO5mRD",
        "colab_type": "code",
        "colab": {}
      },
      "source": [
        "import torch\n",
        "import time"
      ],
      "execution_count": 0,
      "outputs": []
    },
    {
      "cell_type": "code",
      "metadata": {
        "id": "ZvvKi2xQ5mRG",
        "colab_type": "code",
        "colab": {
          "base_uri": "https://localhost:8080/",
          "height": 53
        },
        "outputId": "c2d5debb-03ac-4063-d54f-9571e3b02cac"
      },
      "source": [
        "print(torch.__version__)        # 返回pytorch的版本\n",
        "print(torch.cuda.is_available())        # 当CUDA可用时返回True"
      ],
      "execution_count": 2,
      "outputs": [
        {
          "output_type": "stream",
          "text": [
            "1.3.1\n",
            "True\n"
          ],
          "name": "stdout"
        }
      ]
    },
    {
      "cell_type": "code",
      "metadata": {
        "id": "O-oZL3r05mRI",
        "colab_type": "code",
        "colab": {
          "base_uri": "https://localhost:8080/",
          "height": 35
        },
        "outputId": "7585961c-947d-4af2-a576-edf8d35bcfa2"
      },
      "source": [
        "a = torch.randn(10000, 1000)    # 返回10000行1000列的张量矩阵\n",
        "b = torch.randn(1000, 2000)     # 返回1000行2000列的张量矩阵\n",
        "\n",
        "t0 = time.time()        # 记录时间\n",
        "c = torch.matmul(a, b)      # 矩阵乘法运算\n",
        "t1 = time.time()        # 记录时间\n",
        "print(a.device, t1 - t0, c.norm(2))     # c.norm(2)表示矩阵c的二范数"
      ],
      "execution_count": 4,
      "outputs": [
        {
          "output_type": "stream",
          "text": [
            "cpu 0.5210487842559814 tensor(138543.9844)\n"
          ],
          "name": "stdout"
        }
      ]
    },
    {
      "cell_type": "code",
      "metadata": {
        "id": "8JdgSKCm5mRK",
        "colab_type": "code",
        "colab": {
          "base_uri": "https://localhost:8080/",
          "height": 35
        },
        "outputId": "db4c3609-242c-4878-cebd-64522d4b339f"
      },
      "source": [
        "device = torch.device('cuda')       # 用GPU来运行\n",
        "a = a.to(device)\n",
        "b = b.to(device)\n",
        "\n",
        "# 初次调用GPU，需要数据传送，因此比较慢\n",
        "t0 = time.time()\n",
        "c = torch.matmul(a, b)\n",
        "t2 = time.time()\n",
        "#print(a.device, t2 - t0, c.norm(2))\n",
        "\n",
        "# 这才是GPU处理数据的真实运行时间，当数据量越大，GPU的优势越明显\n",
        "t0 = time.time()\n",
        "c = torch.matmul(a, b)\n",
        "t2 = time.time()\n",
        "print(a.device, t2 - t0, c.norm(2))"
      ],
      "execution_count": 12,
      "outputs": [
        {
          "output_type": "stream",
          "text": [
            "cuda:0 0.00018739700317382812 tensor(141464.6406, device='cuda:0')\n"
          ],
          "name": "stdout"
        }
      ]
    },
    {
      "cell_type": "code",
      "metadata": {
        "id": "vz4xFA-u5mRL",
        "colab_type": "code",
        "colab": {}
      },
      "source": [
        ""
      ],
      "execution_count": 0,
      "outputs": []
    }
  ]
}